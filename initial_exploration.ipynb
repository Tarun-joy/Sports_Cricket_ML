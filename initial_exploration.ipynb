{
 "cells": [
  {
   "cell_type": "code",
   "execution_count": 9,
   "metadata": {},
   "outputs": [
    {
     "name": "stderr",
     "output_type": "stream",
     "text": [
      "C:\\Users\\s533725\\AppData\\Local\\Continuum\\anaconda3\\lib\\site-packages\\IPython\\core\\interactiveshell.py:3057: DtypeWarning: Columns (0,1,2,6,7,8,9,10,11,12,13,14,17) have mixed types. Specify dtype option on import or set low_memory=False.\n",
      "  interactivity=interactivity, compiler=compiler, result=result)\n"
     ]
    },
    {
     "name": "stdout",
     "output_type": "stream",
     "text": [
      "        Innings Player  ... Innings Economy Rate\n",
      "0               JJ Roy  ...                  NaN\n",
      "1             AD Hales  ...                  NaN\n",
      "2             RA Smith  ...                  NaN\n",
      "3               JJ Roy  ...                  NaN\n",
      "4             DI Gower  ...                  NaN\n",
      "5           AJ Strauss  ...                  NaN\n",
      "6           AJ Strauss  ...                  NaN\n",
      "7               JJ Roy  ...                  NaN\n",
      "8           AJ Strauss  ...                  NaN\n",
      "9           JC Buttler  ...                  NaN\n",
      "10          EJG Morgan  ...                  NaN\n",
      "11            AD Hales  ...                  NaN\n",
      "12           CWJ Athey  ...                  NaN\n",
      "13            GA Gooch  ...                  NaN\n",
      "14         JM Bairstow  ...                  NaN\n",
      "15             IR Bell  ...                  NaN\n",
      "16         JM Bairstow  ...                  NaN\n",
      "17         JM Bairstow  ...                  NaN\n",
      "18            DL Amiss  ...                  NaN\n",
      "19      ME Trescothick  ...                  NaN\n",
      "20           IJL Trott  ...                  NaN\n",
      "21             AN Cook  ...                  NaN\n",
      "22            GA Gooch  ...                  NaN\n",
      "23            AD Hales  ...                  NaN\n",
      "24             JE Root  ...                  NaN\n",
      "25        KWR Fletcher  ...                  NaN\n",
      "26            DI Gower  ...                  NaN\n",
      "27      ME Trescothick  ...                  NaN\n",
      "28        KP Pietersen  ...                  NaN\n",
      "29            GA Gooch  ...                  NaN\n",
      "...                ...  ...                  ...\n",
      "171938             NaN  ...                  NaN\n",
      "171939             NaN  ...                  NaN\n",
      "171940             NaN  ...                  NaN\n",
      "171941             NaN  ...                  NaN\n",
      "171942             NaN  ...                  NaN\n",
      "171943             NaN  ...                  NaN\n",
      "171944             NaN  ...                  NaN\n",
      "171945             NaN  ...                  NaN\n",
      "171946             NaN  ...                  NaN\n",
      "171947             NaN  ...                  NaN\n",
      "171948             NaN  ...                  NaN\n",
      "171949             NaN  ...                  NaN\n",
      "171950             NaN  ...                  NaN\n",
      "171951             NaN  ...                  NaN\n",
      "171952             NaN  ...                  NaN\n",
      "171953             NaN  ...                  NaN\n",
      "171954             NaN  ...                  NaN\n",
      "171955             NaN  ...                  NaN\n",
      "171956             NaN  ...                  NaN\n",
      "171957             NaN  ...                  NaN\n",
      "171958             NaN  ...                  NaN\n",
      "171959             NaN  ...                  NaN\n",
      "171960             NaN  ...                  NaN\n",
      "171961             NaN  ...                  NaN\n",
      "171962             NaN  ...                  NaN\n",
      "171963             NaN  ...                  NaN\n",
      "171964             NaN  ...                  NaN\n",
      "171965             NaN  ...                  NaN\n",
      "171966             NaN  ...                  NaN\n",
      "171967             NaN  ...                  NaN\n",
      "\n",
      "[171968 rows x 28 columns]\n"
     ]
    }
   ],
   "source": [
    "import pandas as pd\n",
    "my_data = pd.read_csv(\"ODI Player Innings Stats - All Teams.csv\")\n",
    "print(my_data)\n"
   ]
  },
  {
   "cell_type": "markdown",
   "metadata": {},
   "source": [
    "2. I found an intresting relationship between opposition team, runs scored and ground.\n",
    "3. I would like to predict the high scorer of the match and the team that is going to win the match."
   ]
  },
  {
   "cell_type": "code",
   "execution_count": 11,
   "metadata": {},
   "outputs": [
    {
     "name": "stdout",
     "output_type": "stream",
     "text": [
      "<class 'pandas.core.frame.DataFrame'>\n",
      "Int64Index: 85774 entries, 0 to 85773\n",
      "Data columns (total 28 columns):\n",
      "Innings Player                   85774 non-null object\n",
      "Innings Runs Scored              85774 non-null object\n",
      "Innings Runs Scored Num          85774 non-null object\n",
      "Innings Minutes Batted           85774 non-null float64\n",
      "Innings Batted Flag              85774 non-null float64\n",
      "Innings Not Out Flag             85774 non-null float64\n",
      "Innings Balls Faced              85774 non-null object\n",
      "Innings Boundary Fours           85774 non-null object\n",
      "Innings Boundary Sixes           85774 non-null object\n",
      "Innings Batting Strike Rate      85774 non-null object\n",
      "Innings Number                   85774 non-null object\n",
      "Opposition                       85774 non-null object\n",
      "Ground                           85774 non-null object\n",
      "Innings Date                     85774 non-null object\n",
      "Country                          85774 non-null object\n",
      "50's                             85774 non-null float64\n",
      "100's                            85774 non-null float64\n",
      "Innings Runs Scored Buckets      85774 non-null object\n",
      "Innings Overs Bowled             0 non-null float64\n",
      "Innings Bowled Flag              0 non-null float64\n",
      "Innings Maidens Bowled           0 non-null float64\n",
      "Innings Runs Conceded            0 non-null float64\n",
      "Innings Wickets Taken            0 non-null float64\n",
      "4 Wickets                        0 non-null float64\n",
      "5 Wickets                        0 non-null float64\n",
      "10 Wickets                       0 non-null float64\n",
      "Innings Wickets Taken Buckets    0 non-null float64\n",
      "Innings Economy Rate             0 non-null float64\n",
      "dtypes: float64(15), object(13)\n",
      "memory usage: 19.0+ MB\n"
     ]
    },
    {
     "name": "stderr",
     "output_type": "stream",
     "text": [
      "C:\\Users\\s533725\\AppData\\Local\\Continuum\\anaconda3\\lib\\site-packages\\pandas\\core\\ops.py:1649: FutureWarning: elementwise comparison failed; returning scalar instead, but in the future will perform elementwise comparison\n",
      "  result = method(y)\n"
     ]
    },
    {
     "name": "stdout",
     "output_type": "stream",
     "text": [
      "<class 'pandas.core.frame.DataFrame'>\n",
      "Int64Index: 85774 entries, 0 to 85773\n",
      "Data columns (total 17 columns):\n",
      "Innings Player                 85774 non-null object\n",
      "Innings Runs Scored            85774 non-null object\n",
      "Innings Runs Scored Num        85774 non-null object\n",
      "Innings Minutes Batted         85774 non-null float64\n",
      "Innings Batted Flag            85774 non-null float64\n",
      "Innings Not Out Flag           85774 non-null float64\n",
      "Innings Balls Faced            85774 non-null object\n",
      "Innings Boundary Fours         85774 non-null object\n",
      "Innings Boundary Sixes         85774 non-null object\n",
      "Innings Batting Strike Rate    85774 non-null object\n",
      "Innings Number                 85774 non-null object\n",
      "Opposition                     85774 non-null object\n",
      "Ground                         85774 non-null object\n",
      "Innings Date                   85774 non-null object\n",
      "Country                        85774 non-null object\n",
      "50's                           85774 non-null float64\n",
      "100's                          85774 non-null float64\n",
      "dtypes: float64(5), object(12)\n",
      "memory usage: 11.8+ MB\n",
      "None\n"
     ]
    }
   ],
   "source": [
    "data_copy_1 = my_data.copy()\n",
    "data_copy_1.dropna(axis='index', how='all', inplace=True)\n",
    "data_copy_1.info()\n",
    "\n",
    "data_copy_2 = data_copy_1.copy()\n",
    "data_copy_2.drop(labels=\"Innings Overs Bowled\", axis='columns', inplace=True)\n",
    "data_copy_2.drop(labels=\"Innings Bowled Flag\", axis='columns', inplace=True)\n",
    "data_copy_2.drop(labels=\"Innings Maidens Bowled\", axis='columns', inplace=True)\n",
    "data_copy_2.drop(labels=\"Innings Runs Conceded\", axis='columns', inplace=True)\n",
    "data_copy_2.drop(labels=\"Innings Wickets Taken\", axis='columns', inplace=True)\n",
    "data_copy_2.drop(labels=\"4 Wickets\", axis='columns', inplace=True)\n",
    "data_copy_2.drop(labels=\"5 Wickets\", axis='columns', inplace=True)\n",
    "data_copy_2.drop(labels=\"10 Wickets\", axis='columns', inplace=True)\n",
    "data_copy_2.drop(labels=\"Innings Wickets Taken Buckets\", axis='columns', inplace=True)\n",
    "data_copy_2.drop(labels=\"Innings Economy Rate\", axis='columns', inplace=True)\n",
    "data_copy_2.drop(labels=\"Innings Runs Scored Buckets\", axis='columns', inplace=True)\n",
    "indexNames = data_copy_2[ (data_copy_2['Innings Minutes Batted'] == '-') ].index\n",
    "data_copy_2.drop(indexNames , inplace=True)\n",
    "data_copy_3 = data_copy_2.dropna(subset=['Innings Balls Faced'])\n",
    "data_copy_4=data_copy_3.replace(to_replace =\"-\",value = 0)\n",
    "print(data_copy_2.info())"
   ]
  },
  {
   "cell_type": "code",
   "execution_count": 12,
   "metadata": {},
   "outputs": [
    {
     "name": "stdout",
     "output_type": "stream",
     "text": [
      "68619 17155\n"
     ]
    }
   ],
   "source": [
    "from sklearn.model_selection import train_test_split\n",
    "train_set, test_set = train_test_split(data_copy_4, test_size=0.2, random_state=123)\n",
    "print(len(train_set), len(test_set))"
   ]
  },
  {
   "cell_type": "code",
   "execution_count": 13,
   "metadata": {},
   "outputs": [
    {
     "data": {
      "text/plain": [
       "Innings Player                 0\n",
       "Innings Runs Scored            0\n",
       "Innings Runs Scored Num        0\n",
       "Innings Minutes Batted         0\n",
       "Innings Batted Flag            0\n",
       "Innings Not Out Flag           0\n",
       "Innings Balls Faced            0\n",
       "Innings Boundary Fours         0\n",
       "Innings Boundary Sixes         0\n",
       "Innings Batting Strike Rate    0\n",
       "Innings Number                 0\n",
       "Opposition                     0\n",
       "Ground                         0\n",
       "Innings Date                   0\n",
       "Country                        0\n",
       "50's                           0\n",
       "100's                          0\n",
       "dtype: int64"
      ]
     },
     "execution_count": 13,
     "metadata": {},
     "output_type": "execute_result"
    }
   ],
   "source": [
    "data_copy_2.isnull().sum()\n"
   ]
  },
  {
   "cell_type": "code",
   "execution_count": 14,
   "metadata": {
    "scrolled": true
   },
   "outputs": [
    {
     "name": "stdout",
     "output_type": "stream",
     "text": [
      "<class 'pandas.core.frame.DataFrame'>\n",
      "Int64Index: 85774 entries, 0 to 85773\n",
      "Data columns (total 17 columns):\n",
      "Innings Player                 85774 non-null object\n",
      "Innings Runs Scored            85774 non-null object\n",
      "Innings Runs Scored Num        85774 non-null object\n",
      "Innings Minutes Batted         85774 non-null float64\n",
      "Innings Batted Flag            85774 non-null float64\n",
      "Innings Not Out Flag           85774 non-null float64\n",
      "Innings Balls Faced            85774 non-null object\n",
      "Innings Boundary Fours         85774 non-null object\n",
      "Innings Boundary Sixes         85774 non-null object\n",
      "Innings Batting Strike Rate    85774 non-null object\n",
      "Innings Number                 85774 non-null object\n",
      "Opposition                     85774 non-null object\n",
      "Ground                         85774 non-null object\n",
      "Innings Date                   85774 non-null object\n",
      "Country                        85774 non-null object\n",
      "50's                           85774 non-null float64\n",
      "100's                          85774 non-null float64\n",
      "dtypes: float64(5), object(12)\n",
      "memory usage: 11.8+ MB\n"
     ]
    }
   ],
   "source": [
    "data_copy_4.info()"
   ]
  },
  {
   "cell_type": "code",
   "execution_count": 15,
   "metadata": {},
   "outputs": [
    {
     "data": {
      "text/html": [
       "<div>\n",
       "<style scoped>\n",
       "    .dataframe tbody tr th:only-of-type {\n",
       "        vertical-align: middle;\n",
       "    }\n",
       "\n",
       "    .dataframe tbody tr th {\n",
       "        vertical-align: top;\n",
       "    }\n",
       "\n",
       "    .dataframe thead th {\n",
       "        text-align: right;\n",
       "    }\n",
       "</style>\n",
       "<table border=\"1\" class=\"dataframe\">\n",
       "  <thead>\n",
       "    <tr style=\"text-align: right;\">\n",
       "      <th></th>\n",
       "      <th>Innings Player</th>\n",
       "      <th>Innings Runs Scored</th>\n",
       "      <th>Innings Runs Scored Num</th>\n",
       "      <th>Innings Minutes Batted</th>\n",
       "      <th>Innings Batted Flag</th>\n",
       "      <th>Innings Not Out Flag</th>\n",
       "      <th>Innings Balls Faced</th>\n",
       "      <th>Innings Boundary Fours</th>\n",
       "      <th>Innings Boundary Sixes</th>\n",
       "      <th>Innings Batting Strike Rate</th>\n",
       "      <th>Innings Number</th>\n",
       "      <th>Opposition</th>\n",
       "      <th>Ground</th>\n",
       "      <th>Innings Date</th>\n",
       "      <th>Country</th>\n",
       "      <th>50's</th>\n",
       "      <th>100's</th>\n",
       "    </tr>\n",
       "  </thead>\n",
       "  <tbody>\n",
       "    <tr>\n",
       "      <th>0</th>\n",
       "      <td>JJ Roy</td>\n",
       "      <td>180</td>\n",
       "      <td>180</td>\n",
       "      <td>151.0</td>\n",
       "      <td>1.0</td>\n",
       "      <td>0.0</td>\n",
       "      <td>151</td>\n",
       "      <td>16</td>\n",
       "      <td>5</td>\n",
       "      <td>119.2</td>\n",
       "      <td>2</td>\n",
       "      <td>v Australia</td>\n",
       "      <td>Melbourne</td>\n",
       "      <td>1/14/2018</td>\n",
       "      <td>England</td>\n",
       "      <td>0.0</td>\n",
       "      <td>1.0</td>\n",
       "    </tr>\n",
       "    <tr>\n",
       "      <th>1</th>\n",
       "      <td>AD Hales</td>\n",
       "      <td>171</td>\n",
       "      <td>171</td>\n",
       "      <td>166.0</td>\n",
       "      <td>1.0</td>\n",
       "      <td>0.0</td>\n",
       "      <td>122</td>\n",
       "      <td>22</td>\n",
       "      <td>4</td>\n",
       "      <td>140.16</td>\n",
       "      <td>1</td>\n",
       "      <td>v Pakistan</td>\n",
       "      <td>Nottingham</td>\n",
       "      <td>8/30/2016</td>\n",
       "      <td>England</td>\n",
       "      <td>0.0</td>\n",
       "      <td>1.0</td>\n",
       "    </tr>\n",
       "    <tr>\n",
       "      <th>2</th>\n",
       "      <td>RA Smith</td>\n",
       "      <td>167*</td>\n",
       "      <td>167</td>\n",
       "      <td>208.0</td>\n",
       "      <td>1.0</td>\n",
       "      <td>1.0</td>\n",
       "      <td>163</td>\n",
       "      <td>17</td>\n",
       "      <td>3</td>\n",
       "      <td>102.45</td>\n",
       "      <td>1</td>\n",
       "      <td>v Australia</td>\n",
       "      <td>Birmingham</td>\n",
       "      <td>5/21/1993</td>\n",
       "      <td>England</td>\n",
       "      <td>0.0</td>\n",
       "      <td>1.0</td>\n",
       "    </tr>\n",
       "    <tr>\n",
       "      <th>3</th>\n",
       "      <td>JJ Roy</td>\n",
       "      <td>162</td>\n",
       "      <td>162</td>\n",
       "      <td>172.0</td>\n",
       "      <td>1.0</td>\n",
       "      <td>0.0</td>\n",
       "      <td>118</td>\n",
       "      <td>13</td>\n",
       "      <td>3</td>\n",
       "      <td>137.28</td>\n",
       "      <td>2</td>\n",
       "      <td>v Sri Lanka</td>\n",
       "      <td>The Oval</td>\n",
       "      <td>6/29/2016</td>\n",
       "      <td>England</td>\n",
       "      <td>0.0</td>\n",
       "      <td>1.0</td>\n",
       "    </tr>\n",
       "    <tr>\n",
       "      <th>4</th>\n",
       "      <td>DI Gower</td>\n",
       "      <td>158</td>\n",
       "      <td>158</td>\n",
       "      <td>177.0</td>\n",
       "      <td>1.0</td>\n",
       "      <td>0.0</td>\n",
       "      <td>118</td>\n",
       "      <td>18</td>\n",
       "      <td>4</td>\n",
       "      <td>133.89</td>\n",
       "      <td>1</td>\n",
       "      <td>v New Zealand</td>\n",
       "      <td>Brisbane</td>\n",
       "      <td>1/15/1983</td>\n",
       "      <td>England</td>\n",
       "      <td>0.0</td>\n",
       "      <td>1.0</td>\n",
       "    </tr>\n",
       "  </tbody>\n",
       "</table>\n",
       "</div>"
      ],
      "text/plain": [
       "  Innings Player Innings Runs Scored  ... 50's  100's\n",
       "0         JJ Roy                 180  ...  0.0    1.0\n",
       "1       AD Hales                 171  ...  0.0    1.0\n",
       "2       RA Smith                167*  ...  0.0    1.0\n",
       "3         JJ Roy                 162  ...  0.0    1.0\n",
       "4       DI Gower                 158  ...  0.0    1.0\n",
       "\n",
       "[5 rows x 17 columns]"
      ]
     },
     "execution_count": 15,
     "metadata": {},
     "output_type": "execute_result"
    }
   ],
   "source": [
    "data_copy_4.head()"
   ]
  },
  {
   "cell_type": "code",
   "execution_count": null,
   "metadata": {},
   "outputs": [],
   "source": []
  },
  {
   "cell_type": "code",
   "execution_count": null,
   "metadata": {},
   "outputs": [],
   "source": []
  }
 ],
 "metadata": {
  "kernelspec": {
   "display_name": "Python 3",
   "language": "python",
   "name": "python3"
  },
  "language_info": {
   "codemirror_mode": {
    "name": "ipython",
    "version": 3
   },
   "file_extension": ".py",
   "mimetype": "text/x-python",
   "name": "python",
   "nbconvert_exporter": "python",
   "pygments_lexer": "ipython3",
   "version": "3.7.3"
  }
 },
 "nbformat": 4,
 "nbformat_minor": 2
}
