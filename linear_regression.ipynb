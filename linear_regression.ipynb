{
 "cells": [
  {
   "cell_type": "code",
   "execution_count": 1,
   "metadata": {},
   "outputs": [
    {
     "name": "stderr",
     "output_type": "stream",
     "text": [
      "C:\\Users\\S533718\\AppData\\Local\\Continuum\\anaconda3\\lib\\site-packages\\IPython\\core\\interactiveshell.py:3020: DtypeWarning: Columns (0,1,2,6,7,8,9,10,11,12,13,14,17) have mixed types. Specify dtype option on import or set low_memory=False.\n",
      "  interactivity=interactivity, compiler=compiler, result=result)\n"
     ]
    },
    {
     "name": "stdout",
     "output_type": "stream",
     "text": [
      "<class 'pandas.core.frame.DataFrame'>\n",
      "RangeIndex: 171968 entries, 0 to 171967\n",
      "Data columns (total 28 columns):\n",
      "Innings Player                   85774 non-null object\n",
      "Innings Runs Scored              85774 non-null object\n",
      "Innings Runs Scored Num          85774 non-null object\n",
      "Innings Minutes Batted           85774 non-null float64\n",
      "Innings Batted Flag              85774 non-null float64\n",
      "Innings Not Out Flag             85774 non-null float64\n",
      "Innings Balls Faced              85774 non-null object\n",
      "Innings Boundary Fours           85774 non-null object\n",
      "Innings Boundary Sixes           85774 non-null object\n",
      "Innings Batting Strike Rate      85774 non-null object\n",
      "Innings Number                   85774 non-null object\n",
      "Opposition                       85774 non-null object\n",
      "Ground                           85774 non-null object\n",
      "Innings Date                     85774 non-null object\n",
      "Country                          85774 non-null object\n",
      "50's                             85774 non-null float64\n",
      "100's                            85774 non-null float64\n",
      "Innings Runs Scored Buckets      85774 non-null object\n",
      "Innings Overs Bowled             0 non-null float64\n",
      "Innings Bowled Flag              0 non-null float64\n",
      "Innings Maidens Bowled           0 non-null float64\n",
      "Innings Runs Conceded            0 non-null float64\n",
      "Innings Wickets Taken            0 non-null float64\n",
      "4 Wickets                        0 non-null float64\n",
      "5 Wickets                        0 non-null float64\n",
      "10 Wickets                       0 non-null float64\n",
      "Innings Wickets Taken Buckets    0 non-null float64\n",
      "Innings Economy Rate             0 non-null float64\n",
      "dtypes: float64(15), object(13)\n",
      "memory usage: 36.7+ MB\n",
      "None\n"
     ]
    }
   ],
   "source": [
    "import pandas as pd\n",
    "data_frame= pd.read_csv(\"ODI Player Innings Stats - All Teams.csv\")\n",
    "print(data_frame.info())"
   ]
  },
  {
   "cell_type": "code",
   "execution_count": 9,
   "metadata": {},
   "outputs": [
    {
     "name": "stdout",
     "output_type": "stream",
     "text": [
      "<class 'pandas.core.frame.DataFrame'>\n",
      "Int64Index: 85774 entries, 0 to 85773\n",
      "Data columns (total 28 columns):\n",
      "Innings Player                   85774 non-null object\n",
      "Innings Runs Scored              85774 non-null object\n",
      "Innings Runs Scored Num          85774 non-null object\n",
      "Innings Minutes Batted           85774 non-null float64\n",
      "Innings Batted Flag              85774 non-null float64\n",
      "Innings Not Out Flag             85774 non-null float64\n",
      "Innings Balls Faced              85774 non-null object\n",
      "Innings Boundary Fours           85774 non-null object\n",
      "Innings Boundary Sixes           85774 non-null object\n",
      "Innings Batting Strike Rate      85774 non-null object\n",
      "Innings Number                   85774 non-null object\n",
      "Opposition                       85774 non-null object\n",
      "Ground                           85774 non-null object\n",
      "Innings Date                     85774 non-null object\n",
      "Country                          85774 non-null object\n",
      "50's                             85774 non-null float64\n",
      "100's                            85774 non-null float64\n",
      "Innings Runs Scored Buckets      85774 non-null object\n",
      "Innings Overs Bowled             0 non-null float64\n",
      "Innings Bowled Flag              0 non-null float64\n",
      "Innings Maidens Bowled           0 non-null float64\n",
      "Innings Runs Conceded            0 non-null float64\n",
      "Innings Wickets Taken            0 non-null float64\n",
      "4 Wickets                        0 non-null float64\n",
      "5 Wickets                        0 non-null float64\n",
      "10 Wickets                       0 non-null float64\n",
      "Innings Wickets Taken Buckets    0 non-null float64\n",
      "Innings Economy Rate             0 non-null float64\n",
      "dtypes: float64(15), object(13)\n",
      "memory usage: 19.0+ MB\n",
      "<class 'pandas.core.frame.DataFrame'>\n",
      "Int64Index: 85774 entries, 0 to 85773\n",
      "Data columns (total 17 columns):\n",
      "Innings Player                 85774 non-null object\n",
      "Innings Runs Scored            85774 non-null object\n",
      "Innings Runs Scored Num        85774 non-null object\n",
      "Innings Minutes Batted         85774 non-null float64\n",
      "Innings Batted Flag            85774 non-null float64\n",
      "Innings Not Out Flag           85774 non-null float64\n",
      "Innings Balls Faced            85774 non-null object\n",
      "Innings Boundary Fours         85774 non-null object\n",
      "Innings Boundary Sixes         85774 non-null object\n",
      "Innings Batting Strike Rate    85774 non-null object\n",
      "Innings Number                 85774 non-null object\n",
      "Opposition                     85774 non-null object\n",
      "Ground                         85774 non-null object\n",
      "Innings Date                   85774 non-null object\n",
      "Country                        85774 non-null object\n",
      "50's                           85774 non-null float64\n",
      "100's                          85774 non-null float64\n",
      "dtypes: float64(5), object(12)\n",
      "memory usage: 11.8+ MB\n",
      "None\n"
     ]
    }
   ],
   "source": [
    "data_copy_1 = data_frame.copy()\n",
    "data_copy_1.dropna(axis='index', how='all', inplace=True)\n",
    "data_copy_1.info()\n",
    "\n",
    "data_copy_2 = data_copy_1.copy()\n",
    "data_copy_2.drop(labels=\"Innings Overs Bowled\", axis='columns', inplace=True)\n",
    "data_copy_2.drop(labels=\"Innings Bowled Flag\", axis='columns', inplace=True)\n",
    "data_copy_2.drop(labels=\"Innings Maidens Bowled\", axis='columns', inplace=True)\n",
    "data_copy_2.drop(labels=\"Innings Runs Conceded\", axis='columns', inplace=True)\n",
    "data_copy_2.drop(labels=\"Innings Wickets Taken\", axis='columns', inplace=True)\n",
    "data_copy_2.drop(labels=\"4 Wickets\", axis='columns', inplace=True)\n",
    "data_copy_2.drop(labels=\"5 Wickets\", axis='columns', inplace=True)\n",
    "data_copy_2.drop(labels=\"10 Wickets\", axis='columns', inplace=True)\n",
    "data_copy_2.drop(labels=\"Innings Wickets Taken Buckets\", axis='columns', inplace=True)\n",
    "data_copy_2.drop(labels=\"Innings Economy Rate\", axis='columns', inplace=True)\n",
    "data_copy_2.drop(labels=\"Innings Runs Scored Buckets\", axis='columns', inplace=True)\n",
    "indexNames = data_copy_2[(data_copy_2['Innings Minutes Batted'].isin(['-']))].index\n",
    "data_copy_2.drop(indexNames , inplace=True)\n",
    "\n",
    "print(data_copy_2.info())\n"
   ]
  },
  {
   "cell_type": "markdown",
   "metadata": {},
   "source": [
    "I choose No. of balls faced as my X-axis and No. of runs scored as my Y-axis to predict the score of a batsman that if he has played certain amount of balls."
   ]
  },
  {
   "cell_type": "code",
   "execution_count": 10,
   "metadata": {
    "scrolled": true
   },
   "outputs": [
    {
     "name": "stdout",
     "output_type": "stream",
     "text": [
      "<class 'pandas.core.frame.DataFrame'>\n",
      "Int64Index: 85774 entries, 0 to 85773\n",
      "Data columns (total 17 columns):\n",
      "Innings Player                 85774 non-null object\n",
      "Innings Runs Scored            85774 non-null object\n",
      "Innings Runs Scored Num        85774 non-null object\n",
      "Innings Minutes Batted         85774 non-null float64\n",
      "Innings Batted Flag            85774 non-null float64\n",
      "Innings Not Out Flag           85774 non-null float64\n",
      "Innings Balls Faced            85774 non-null object\n",
      "Innings Boundary Fours         85774 non-null object\n",
      "Innings Boundary Sixes         85774 non-null object\n",
      "Innings Batting Strike Rate    85774 non-null object\n",
      "Innings Number                 85774 non-null object\n",
      "Opposition                     85774 non-null object\n",
      "Ground                         85774 non-null object\n",
      "Innings Date                   85774 non-null object\n",
      "Country                        85774 non-null object\n",
      "50's                           85774 non-null float64\n",
      "100's                          85774 non-null float64\n",
      "dtypes: float64(5), object(12)\n",
      "memory usage: 11.8+ MB\n"
     ]
    }
   ],
   "source": [
    "\n",
    "data_copy_2.info()"
   ]
  },
  {
   "cell_type": "code",
   "execution_count": 11,
   "metadata": {},
   "outputs": [
    {
     "name": "stdout",
     "output_type": "stream",
     "text": [
      "<class 'pandas.core.frame.DataFrame'>\n",
      "Int64Index: 85774 entries, 0 to 85773\n",
      "Data columns (total 17 columns):\n",
      "Innings Player                 85774 non-null object\n",
      "Innings Runs Scored            85774 non-null object\n",
      "Innings Runs Scored Num        85774 non-null object\n",
      "Innings Minutes Batted         85774 non-null float64\n",
      "Innings Batted Flag            85774 non-null float64\n",
      "Innings Not Out Flag           85774 non-null float64\n",
      "Innings Balls Faced            85774 non-null object\n",
      "Innings Boundary Fours         85774 non-null object\n",
      "Innings Boundary Sixes         85774 non-null object\n",
      "Innings Batting Strike Rate    85774 non-null object\n",
      "Innings Number                 85774 non-null object\n",
      "Opposition                     85774 non-null object\n",
      "Ground                         85774 non-null object\n",
      "Innings Date                   85774 non-null object\n",
      "Country                        85774 non-null object\n",
      "50's                           85774 non-null float64\n",
      "100's                          85774 non-null float64\n",
      "dtypes: float64(5), object(12)\n",
      "memory usage: 11.8+ MB\n"
     ]
    }
   ],
   "source": [
    "data_copy_3 = data_copy_2.dropna(subset=['Innings Balls Faced'])\n",
    "data_copy_4=data_copy_3.replace(to_replace =\"-\", \n",
    "                 value = 0) \n",
    "data_copy_4.info()"
   ]
  },
  {
   "cell_type": "code",
   "execution_count": 12,
   "metadata": {},
   "outputs": [
    {
     "name": "stdout",
     "output_type": "stream",
     "text": [
      "68619 17155\n"
     ]
    }
   ],
   "source": [
    "from sklearn.model_selection import train_test_split\n",
    "train_set, test_set = train_test_split(data_copy_4, test_size=0.2, random_state=123)\n",
    "print(len(train_set), len(test_set))"
   ]
  },
  {
   "cell_type": "code",
   "execution_count": 14,
   "metadata": {
    "scrolled": true
   },
   "outputs": [
    {
     "name": "stdout",
     "output_type": "stream",
     "text": [
      "LinearRegression(copy_X=True, fit_intercept=True, n_jobs=None,\n",
      "         normalize=False)\n",
      "R2 is 0.857255570810685\n",
      "Mean Square Error is  93.88382165744\n",
      "The root mean square error is  9.689366421879193\n"
     ]
    },
    {
     "data": {
      "image/png": "[encoded data removed]",
      "text/plain": [
       "<Figure size 432x288 with 1 Axes>"
      ]
     },
     "metadata": {
      "needs_background": "light"
     },
     "output_type": "display_data"
    }
   ],
   "source": [
    "\n",
    "from sklearn.linear_model import LinearRegression\n",
    "from sklearn.metrics import mean_squared_error\n",
    "import math\n",
    "import matplotlib.pyplot as plt\n",
    "reg = LinearRegression()\n",
    "X = train_set[['Innings Balls Faced']]\n",
    "Y = train_set['Innings Runs Scored Num']\n",
    "print(reg.fit(X, Y))\n",
    "print(\"R2 is\", reg.score(X,Y))\n",
    "\n",
    "Y_prediction = reg.predict(X)\n",
    "Mean_Sq_Error = mean_squared_error(Y, Y_prediction)\n",
    "print(\"Mean Square Error is \", Mean_Sq_Error )\n",
    "\n",
    "root_mean_sq_error = math.sqrt(Mean_Sq_Error)\n",
    "print(\"The root mean square error is \", root_mean_sq_error)\n",
    "plt.scatter(x=X,y=Y,marker=\"o\",c=\"green\")\n",
    "plt.xlabel(\"Innings Balls Faced\")\n",
    "plt.ylabel(\"Innings Runs Scored Num\")\n",
    "plt.savefig(\"figure1.png\")\n",
    "plt.show()"
   ]
  },
  {
   "cell_type": "markdown",
   "metadata": {},
   "source": [
    "85% of the predicted value is determined by the input."
   ]
  },
  {
   "cell_type": "code",
   "execution_count": 93,
   "metadata": {},
   "outputs": [
    {
     "name": "stdout",
     "output_type": "stream",
     "text": [
      "LinearRegression(copy_X=True, fit_intercept=True, n_jobs=None, normalize=False)\n",
      "R2 is 0.8903168287861005\n",
      "Mean Square Error is  72.13924454740831\n",
      "The root mean square error is  8.493482474663047\n"
     ]
    }
   ],
   "source": [
    "\n",
    "from sklearn.linear_model import LinearRegression\n",
    "from sklearn.metrics import mean_squared_error\n",
    "import math\n",
    "import matplotlib.pyplot as plt\n",
    "reg = LinearRegression()\n",
    "X = train_set[['Innings Balls Faced','Innings Batting Strike Rate']]\n",
    "Y = train_set['Innings Runs Scored Num']\n",
    "print(reg.fit(X, Y))\n",
    "print(\"R2 is\", reg.score(X,Y))\n",
    "\n",
    "Y_prediction = reg.predict(X)\n",
    "Mean_Sq_Error = mean_squared_error(Y, Y_prediction)\n",
    "print(\"Mean Square Error is \", Mean_Sq_Error )\n",
    "\n",
    "root_mean_sq_error = math.sqrt(Mean_Sq_Error)\n",
    "print(\"The root mean square error is \", root_mean_sq_error)\n"
   ]
  },
  {
   "cell_type": "markdown",
   "metadata": {},
   "source": [
    "Upon adding another feature 'Innings Batting Strike Rate'  prediction rate has increased to 89%"
   ]
  },
  {
   "cell_type": "code",
   "execution_count": 94,
   "metadata": {},
   "outputs": [
    {
     "name": "stdout",
     "output_type": "stream",
     "text": [
      "LinearRegression(copy_X=True, fit_intercept=True, n_jobs=None, normalize=False)\n",
      "R2 is 0.8952146124592884\n",
      "Mean Square Error is  67.15383663392792\n",
      "The root mean square error is  8.194744452020936\n"
     ]
    }
   ],
   "source": [
    "\n",
    "from sklearn.linear_model import LinearRegression\n",
    "from sklearn.metrics import mean_squared_error\n",
    "import math\n",
    "import matplotlib.pyplot as plt\n",
    "reg = LinearRegression()\n",
    "X = test_set[['Innings Balls Faced','Innings Batting Strike Rate']]\n",
    "Y = test_set['Innings Runs Scored Num']\n",
    "print(reg.fit(X, Y))\n",
    "print(\"R2 is\", reg.score(X,Y))\n",
    "\n",
    "Y_prediction = reg.predict(X)\n",
    "Mean_Sq_Error = mean_squared_error(Y, Y_prediction)\n",
    "print(\"Mean Square Error is \", Mean_Sq_Error )\n",
    "\n",
    "root_mean_sq_error = math.sqrt(Mean_Sq_Error)\n",
    "print(\"The root mean square error is \", root_mean_sq_error)"
   ]
  },
  {
   "cell_type": "markdown",
   "metadata": {},
   "source": [
    "There is not much change in the regression value between train and test set"
   ]
  },
  {
   "cell_type": "code",
   "execution_count": null,
   "metadata": {},
   "outputs": [],
   "source": []
  }
 ],
 "metadata": {
  "kernelspec": {
   "display_name": "Python 3",
   "language": "python",
   "name": "python3"
  },
  "language_info": {
   "codemirror_mode": {
    "name": "ipython",
    "version": 3
   },
   "file_extension": ".py",
   "mimetype": "text/x-python",
   "name": "python",
   "nbconvert_exporter": "python",
   "pygments_lexer": "ipython3",
   "version": "3.7.1"
  }
 },
 "nbformat": 4,
 "nbformat_minor": 2
}
