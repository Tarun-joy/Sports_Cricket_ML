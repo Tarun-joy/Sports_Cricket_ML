{
 "cells": [
  {
   "cell_type": "code",
   "execution_count": 38,
   "metadata": {
    "scrolled": true
   },
   "outputs": [
    {
     "name": "stderr",
     "output_type": "stream",
     "text": [
      "C:\\Users\\S533718\\AppData\\Local\\Continuum\\anaconda3\\lib\\site-packages\\IPython\\core\\interactiveshell.py:3020: DtypeWarning: Columns (0,1,2,6,7,8,9,10,11,12,13,14,17) have mixed types. Specify dtype option on import or set low_memory=False.\n",
      "  interactivity=interactivity, compiler=compiler, result=result)\n"
     ]
    },
    {
     "data": {
      "text/plain": [
       "Innings Player                   85774\n",
       "Innings Runs Scored              85774\n",
       "Innings Runs Scored Num          85774\n",
       "Innings Minutes Batted           85774\n",
       "Innings Batted Flag              85774\n",
       "Innings Not Out Flag             85774\n",
       "Innings Balls Faced              85774\n",
       "Innings Boundary Fours           85774\n",
       "Innings Boundary Sixes           85774\n",
       "Innings Batting Strike Rate      85774\n",
       "Innings Number                   85774\n",
       "Opposition                       85774\n",
       "Ground                           85774\n",
       "Innings Date                     85774\n",
       "Country                          85774\n",
       "50's                             85774\n",
       "100's                            85774\n",
       "Innings Runs Scored Buckets      85774\n",
       "Innings Overs Bowled                 0\n",
       "Innings Bowled Flag                  0\n",
       "Innings Maidens Bowled               0\n",
       "Innings Runs Conceded                0\n",
       "Innings Wickets Taken                0\n",
       "4 Wickets                            0\n",
       "5 Wickets                            0\n",
       "10 Wickets                           0\n",
       "Innings Wickets Taken Buckets        0\n",
       "Innings Economy Rate                 0\n",
       "dtype: int64"
      ]
     },
     "execution_count": 38,
     "metadata": {},
     "output_type": "execute_result"
    }
   ],
   "source": [
    "import pandas as pd\n",
    "data_frame = pd.read_csv(\"ODI Player Innings Stats - All Teams.csv\")\n",
    "data_frame.count()"
   ]
  },
  {
   "cell_type": "code",
   "execution_count": 44,
   "metadata": {},
   "outputs": [
    {
     "name": "stdout",
     "output_type": "stream",
     "text": [
      "<class 'pandas.core.frame.DataFrame'>\n",
      "Int64Index: 85774 entries, 0 to 85773\n",
      "Data columns (total 28 columns):\n",
      "Innings Player                   85774 non-null object\n",
      "Innings Runs Scored              85774 non-null object\n",
      "Innings Runs Scored Num          85774 non-null object\n",
      "Innings Minutes Batted           85774 non-null float64\n",
      "Innings Batted Flag              85774 non-null float64\n",
      "Innings Not Out Flag             85774 non-null float64\n",
      "Innings Balls Faced              85774 non-null object\n",
      "Innings Boundary Fours           85774 non-null object\n",
      "Innings Boundary Sixes           85774 non-null object\n",
      "Innings Batting Strike Rate      85774 non-null object\n",
      "Innings Number                   85774 non-null object\n",
      "Opposition                       85774 non-null object\n",
      "Ground                           85774 non-null object\n",
      "Innings Date                     85774 non-null object\n",
      "Country                          85774 non-null object\n",
      "50's                             85774 non-null float64\n",
      "100's                            85774 non-null float64\n",
      "Innings Runs Scored Buckets      85774 non-null object\n",
      "Innings Overs Bowled             0 non-null float64\n",
      "Innings Bowled Flag              0 non-null float64\n",
      "Innings Maidens Bowled           0 non-null float64\n",
      "Innings Runs Conceded            0 non-null float64\n",
      "Innings Wickets Taken            0 non-null float64\n",
      "4 Wickets                        0 non-null float64\n",
      "5 Wickets                        0 non-null float64\n",
      "10 Wickets                       0 non-null float64\n",
      "Innings Wickets Taken Buckets    0 non-null float64\n",
      "Innings Economy Rate             0 non-null float64\n",
      "dtypes: float64(15), object(13)\n",
      "memory usage: 19.0+ MB\n",
      "<class 'pandas.core.frame.DataFrame'>\n",
      "Int64Index: 85774 entries, 0 to 85773\n",
      "Data columns (total 17 columns):\n",
      "Innings Player                 85774 non-null object\n",
      "Innings Runs Scored            85774 non-null object\n",
      "Innings Runs Scored Num        85774 non-null object\n",
      "Innings Minutes Batted         85774 non-null float64\n",
      "Innings Batted Flag            85774 non-null float64\n",
      "Innings Not Out Flag           85774 non-null float64\n",
      "Innings Balls Faced            85774 non-null object\n",
      "Innings Boundary Fours         85774 non-null object\n",
      "Innings Boundary Sixes         85774 non-null object\n",
      "Innings Batting Strike Rate    85774 non-null object\n",
      "Innings Number                 85774 non-null object\n",
      "Opposition                     85774 non-null object\n",
      "Ground                         85774 non-null object\n",
      "Innings Date                   85774 non-null object\n",
      "Country                        85774 non-null object\n",
      "50's                           85774 non-null float64\n",
      "100's                          85774 non-null float64\n",
      "dtypes: float64(5), object(12)\n",
      "memory usage: 11.8+ MB\n",
      "None\n"
     ]
    },
    {
     "data": {
      "text/plain": [
       "51464"
      ]
     },
     "execution_count": 44,
     "metadata": {},
     "output_type": "execute_result"
    }
   ],
   "source": [
    "data_copy_1 = data_frame.copy()\n",
    "data_copy_1.dropna(axis='index', how='all', inplace=True)\n",
    "data_copy_1.info()\n",
    "\n",
    "data_copy_2 = data_copy_1.copy()\n",
    "data_copy_2.drop(labels=\"Innings Overs Bowled\", axis='columns', inplace=True)\n",
    "data_copy_2.drop(labels=\"Innings Bowled Flag\", axis='columns', inplace=True)\n",
    "data_copy_2.drop(labels=\"Innings Maidens Bowled\", axis='columns', inplace=True)\n",
    "data_copy_2.drop(labels=\"Innings Runs Conceded\", axis='columns', inplace=True)\n",
    "data_copy_2.drop(labels=\"Innings Wickets Taken\", axis='columns', inplace=True)\n",
    "data_copy_2.drop(labels=\"4 Wickets\", axis='columns', inplace=True)\n",
    "data_copy_2.drop(labels=\"5 Wickets\", axis='columns', inplace=True)\n",
    "data_copy_2.drop(labels=\"10 Wickets\", axis='columns', inplace=True)\n",
    "data_copy_2.drop(labels=\"Innings Wickets Taken Buckets\", axis='columns', inplace=True)\n",
    "data_copy_2.drop(labels=\"Innings Economy Rate\", axis='columns', inplace=True)\n",
    "data_copy_2.drop(labels=\"Innings Runs Scored Buckets\", axis='columns', inplace=True)\n",
    "indexNames = data_copy_2[ (data_copy_2['Innings Minutes Batted'].isin([\"-\"])) ].index\n",
    "data_copy_2.drop(indexNames , inplace=True)\n",
    "data_copy_3 = data_copy_2.dropna(subset=['Innings Balls Faced'])\n",
    "data_copy_4=data_copy_3.replace(to_replace =\"-\",value = 0)\n",
    "print(data_copy_2.info())\n",
    "from sklearn.model_selection import train_test_split\n",
    "train_set, test_set = train_test_split(data_copy_4, test_size=0.4, random_state=123)\n",
    "len(train_set)\n"
   ]
  },
  {
   "cell_type": "code",
   "execution_count": 45,
   "metadata": {},
   "outputs": [
    {
     "data": {
      "text/plain": [
       "DecisionTreeClassifier(class_weight=None, criterion='gini', max_depth=None,\n",
       "            max_features=None, max_leaf_nodes=None,\n",
       "            min_impurity_decrease=0.0, min_impurity_split=None,\n",
       "            min_samples_leaf=1, min_samples_split=2,\n",
       "            min_weight_fraction_leaf=0.0, presort=False, random_state=None,\n",
       "            splitter='best')"
      ]
     },
     "execution_count": 45,
     "metadata": {},
     "output_type": "execute_result"
    }
   ],
   "source": [
    "from sklearn.tree import DecisionTreeClassifier\n",
    "X = train_set[['Innings Balls Faced']]\n",
    "y = train_set['Innings Runs Scored Num']\n",
    "y = y.astype('int')\n",
    "tree_classifier = DecisionTreeClassifier()\n",
    "tree_classifier.fit(X,y)\n"
   ]
  },
  {
   "cell_type": "markdown",
   "metadata": {},
   "source": [
    "# Discussion\n",
    "\n",
    "I chose 'Innings Balls Faced' and 'Innings Runs Scored Num' as my X and Y as these features can be used to prediction"
   ]
  },
  {
   "cell_type": "code",
   "execution_count": 46,
   "metadata": {},
   "outputs": [
    {
     "name": "stdout",
     "output_type": "stream",
     "text": [
      "DecisionTreeClassifier(class_weight=None, criterion='gini', max_depth=None,\n",
      "            max_features=None, max_leaf_nodes=None,\n",
      "            min_impurity_decrease=0.0, min_impurity_split=None,\n",
      "            min_samples_leaf=1, min_samples_split=2,\n",
      "            min_weight_fraction_leaf=0.0, presort=False, random_state=None,\n",
      "            splitter='best')\n",
      "Confusion Matrix [[14154   466    62 ...     0     0     0]\n",
      " [ 1389   552   116 ...     0     0     0]\n",
      " [  656   506   142 ...     0     0     0]\n",
      " ...\n",
      " [    0     0     0 ...     0     0     0]\n",
      " [    0     0     0 ...     0     0     0]\n",
      " [    0     0     0 ...     0     0     0]]\n",
      "Accuracy is  0.3277048033576869\n",
      "Sensitivity is  0.3277048033576869\n",
      "Precision is  0.3497037171560019\n",
      "F1 is  0.3592054337154524\n"
     ]
    }
   ],
   "source": [
    "from sklearn.tree import DecisionTreeClassifier\n",
    "X = train_set[['Innings Balls Faced']]\n",
    "Y = train_set['Innings Runs Scored Num']\n",
    "Y = Y.astype('int')\n",
    "tree_classifier = DecisionTreeClassifier()\n",
    "print(tree_classifier.fit(X,Y))\n",
    "from sklearn.metrics import confusion_matrix\n",
    "y_predicted = tree_classifier.predict(X)\n",
    "matrix = confusion_matrix(Y, y_predicted)\n",
    "print(\"Confusion Matrix\",matrix)\n",
    "from sklearn.metrics import accuracy_score, precision_score, recall_score, f1_score\n",
    "import numpy as np\n",
    "print (\"Accuracy is \", accuracy_score(Y, y_predicted))\n",
    "print (\"Sensitivity is \", recall_score(Y, y_predicted, average=\"weighted\"))\n",
    "print (\"Precision is \", precision_score(Y, y_predicted, average=\"weighted\",labels=np.unique(y_predicted)))\n",
    "print (\"F1 is \", f1_score(Y, y_predicted, average=\"weighted\",labels=np.unique(y_predicted)))"
   ]
  },
  {
   "cell_type": "markdown",
   "metadata": {},
   "source": [
    "# Discussion\n",
    "The accuracy is 0.32, Sesnsitivity is 0.32, Precision is  0.34, F1 is  0.35. As the accuracy is less the modal is not so good."
   ]
  },
  {
   "cell_type": "code",
   "execution_count": 47,
   "metadata": {},
   "outputs": [
    {
     "name": "stderr",
     "output_type": "stream",
     "text": [
      "C:\\Users\\S533718\\AppData\\Local\\Continuum\\anaconda3\\lib\\site-packages\\sklearn\\svm\\base.py:196: FutureWarning: The default value of gamma will change from 'auto' to 'scale' in version 0.22 to account better for unscaled features. Set gamma explicitly to 'auto' or 'scale' to avoid this warning.\n",
      "  \"avoid this warning.\", FutureWarning)\n"
     ]
    },
    {
     "name": "stdout",
     "output_type": "stream",
     "text": [
      "SVC(C=1.0, cache_size=200, class_weight=None, coef0=0.0,\n",
      "  decision_function_shape='ovr', degree=3, gamma='auto_deprecated',\n",
      "  kernel='rbf', max_iter=-1, probability=False, random_state=None,\n",
      "  shrinking=True, tol=0.001, verbose=False)\n",
      "Confusion Matrix [[4175   78    0 ...    0    0    0]\n",
      " [ 429   95    0 ...    0    0    0]\n",
      " [ 258   84    0 ...    0    0    0]\n",
      " ...\n",
      " [   0    0    0 ...    1    0    0]\n",
      " [   0    0    0 ...    0    0    0]\n",
      " [   0    0    0 ...    0    0    0]]\n",
      "Accuracy is  0.3394\n",
      "Sensitivity is  0.3394\n",
      "Precision is  0.3360988459472418\n",
      "F1 is  0.3611921480814234\n"
     ]
    }
   ],
   "source": [
    "from sklearn.svm import SVC\n",
    "X = train_set[['Innings Balls Faced']].head(15000)\n",
    "Y = train_set['Innings Runs Scored Num'].head(15000)\n",
    "Y = Y.astype('int')\n",
    "svm_classifier = SVC(kernel='rbf')\n",
    "print(svm_classifier.fit(X,Y))\n",
    "y_predicted = svm_classifier.predict(X)\n",
    "matrix = confusion_matrix(Y, y_predicted)\n",
    "print(\"Confusion Matrix\",matrix)\n",
    "print (\"Accuracy is \", accuracy_score(Y, y_predicted))\n",
    "print (\"Sensitivity is \", recall_score(Y, y_predicted, average=\"weighted\"))\n",
    "print (\"Precision is \", precision_score(Y, y_predicted, average=\"weighted\",labels=np.unique(y_predicted)))\n",
    "print (\"F1 is \", f1_score(Y, y_predicted, average=\"weighted\",labels=np.unique(y_predicted)))"
   ]
  },
  {
   "cell_type": "code",
   "execution_count": 48,
   "metadata": {},
   "outputs": [
    {
     "name": "stdout",
     "output_type": "stream",
     "text": [
      "SVC(C=1.0, cache_size=200, class_weight=None, coef0=0.0,\n",
      "  decision_function_shape='ovr', degree=3, gamma='auto_deprecated',\n",
      "  kernel='rbf', max_iter=-1, probability=False, random_state=None,\n",
      "  shrinking=True, tol=0.001, verbose=False)\n",
      "Confusion Matrix [[133   9   0 ...   0   0   0]\n",
      " [  7  12   0 ...   0   0   0]\n",
      " [  3   3   0 ...   0   0   0]\n",
      " ...\n",
      " [  0   0   0 ...   1   0   0]\n",
      " [  0   0   0 ...   0   1   0]\n",
      " [  0   0   0 ...   0   0   1]]\n",
      "Accuracy is  0.498\n",
      "Sensitivity is  0.498\n",
      "Precision is  0.573838919266309\n",
      "F1 is  0.5865981868577721\n"
     ]
    },
    {
     "name": "stderr",
     "output_type": "stream",
     "text": [
      "C:\\Users\\S533718\\AppData\\Local\\Continuum\\anaconda3\\lib\\site-packages\\sklearn\\svm\\base.py:196: FutureWarning: The default value of gamma will change from 'auto' to 'scale' in version 0.22 to account better for unscaled features. Set gamma explicitly to 'auto' or 'scale' to avoid this warning.\n",
      "  \"avoid this warning.\", FutureWarning)\n"
     ]
    }
   ],
   "source": [
    "from sklearn.svm import SVC\n",
    "X = train_set[['Innings Balls Faced']].head(500)\n",
    "Y = train_set['Innings Runs Scored Num'].head(500)\n",
    "Y = Y.astype('int')\n",
    "svm_classifier = SVC(kernel='rbf')\n",
    "print(svm_classifier.fit(X,Y))\n",
    "y_predicted = svm_classifier.predict(X)\n",
    "matrix = confusion_matrix(Y, y_predicted)\n",
    "print(\"Confusion Matrix\",matrix)\n",
    "print (\"Accuracy is \", accuracy_score(Y, y_predicted))\n",
    "print (\"Sensitivity is \", recall_score(Y, y_predicted, average=\"weighted\"))\n",
    "print (\"Precision is \", precision_score(Y, y_predicted, average=\"weighted\",labels=np.unique(y_predicted)))\n",
    "print (\"F1 is \", f1_score(Y, y_predicted, average=\"weighted\",labels=np.unique(y_predicted)))"
   ]
  },
  {
   "cell_type": "code",
   "execution_count": 49,
   "metadata": {},
   "outputs": [
    {
     "name": "stdout",
     "output_type": "stream",
     "text": [
      "SVC(C=1.0, cache_size=200, class_weight=None, coef0=0.0,\n",
      "  decision_function_shape='ovr', degree=3, gamma='auto_deprecated',\n",
      "  kernel='rbf', max_iter=-1, probability=False, random_state=None,\n",
      "  shrinking=True, tol=0.001, verbose=False)\n",
      "Confusion Matrix [[53  2  0 ...  0  0  0]\n",
      " [ 2  3  1 ...  0  0  0]\n",
      " [ 1  2  4 ...  0  0  0]\n",
      " ...\n",
      " [ 0  0  0 ...  1  0  0]\n",
      " [ 0  0  0 ...  0  1  0]\n",
      " [ 0  0  0 ...  0  0  1]]\n",
      "Accuracy is  0.64\n",
      "Sensitivity is  0.64\n",
      "Precision is  0.7199919593661446\n",
      "F1 is  0.7101308467567834\n"
     ]
    },
    {
     "name": "stderr",
     "output_type": "stream",
     "text": [
      "C:\\Users\\S533718\\AppData\\Local\\Continuum\\anaconda3\\lib\\site-packages\\sklearn\\svm\\base.py:196: FutureWarning: The default value of gamma will change from 'auto' to 'scale' in version 0.22 to account better for unscaled features. Set gamma explicitly to 'auto' or 'scale' to avoid this warning.\n",
      "  \"avoid this warning.\", FutureWarning)\n"
     ]
    }
   ],
   "source": [
    "X = test_set[['Innings Balls Faced']].head(200)\n",
    "Y = test_set['Innings Runs Scored Num'].head(200)\n",
    "Y = Y.astype('int')\n",
    "svm_classifier = SVC(kernel='rbf')\n",
    "print(svm_classifier.fit(X,Y))\n",
    "y_predicted = svm_classifier.predict(X)\n",
    "matrix = confusion_matrix(Y, y_predicted)\n",
    "print(\"Confusion Matrix\",matrix)\n",
    "print (\"Accuracy is \", accuracy_score(Y, y_predicted))\n",
    "print (\"Sensitivity is \", recall_score(Y, y_predicted, average=\"weighted\"))\n",
    "print (\"Precision is \", precision_score(Y, y_predicted, average=\"weighted\",labels=np.unique(y_predicted)))\n",
    "print (\"F1 is \", f1_score(Y, y_predicted, average=\"weighted\",labels=np.unique(y_predicted)))"
   ]
  },
  {
   "cell_type": "code",
   "execution_count": 50,
   "metadata": {},
   "outputs": [
    {
     "name": "stdout",
     "output_type": "stream",
     "text": [
      "SVC(C=1.0, cache_size=200, class_weight=None, coef0=0.0,\n",
      "  decision_function_shape='ovr', degree=3, gamma='auto_deprecated',\n",
      "  kernel='sigmoid', max_iter=-1, probability=False, random_state=None,\n",
      "  shrinking=True, tol=0.001, verbose=False)\n",
      "Confusion Matrix [[55  0  0 ...  0  0  0]\n",
      " [ 8  0  0 ...  0  0  0]\n",
      " [ 7  0  0 ...  0  0  0]\n",
      " ...\n",
      " [ 0  1  0 ...  0  0  0]\n",
      " [ 0  1  0 ...  0  0  0]\n",
      " [ 0  1  0 ...  0  0  0]]\n",
      "Accuracy is  0.275\n",
      "Sensitivity is  0.275\n",
      "Precision is  0.4001322751322751\n",
      "F1 is  0.5487528344671202\n"
     ]
    },
    {
     "name": "stderr",
     "output_type": "stream",
     "text": [
      "C:\\Users\\S533718\\AppData\\Local\\Continuum\\anaconda3\\lib\\site-packages\\sklearn\\svm\\base.py:196: FutureWarning: The default value of gamma will change from 'auto' to 'scale' in version 0.22 to account better for unscaled features. Set gamma explicitly to 'auto' or 'scale' to avoid this warning.\n",
      "  \"avoid this warning.\", FutureWarning)\n"
     ]
    }
   ],
   "source": [
    "X = test_set[['Innings Balls Faced']].head(200)\n",
    "Y = test_set['Innings Runs Scored Num'].head(200)\n",
    "Y = Y.astype('int')\n",
    "svm_classifier = SVC(kernel='sigmoid')\n",
    "print(svm_classifier.fit(X,Y))\n",
    "y_predicted = svm_classifier.predict(X)\n",
    "matrix = confusion_matrix(Y, y_predicted)\n",
    "print(\"Confusion Matrix\",matrix)\n",
    "print (\"Accuracy is \", accuracy_score(Y, y_predicted))\n",
    "print (\"Sensitivity is \", recall_score(Y, y_predicted, average=\"weighted\"))\n",
    "print (\"Precision is \", precision_score(Y, y_predicted, average=\"weighted\",labels=np.unique(y_predicted)))\n",
    "print (\"F1 is \", f1_score(Y, y_predicted, average=\"weighted\",labels=np.unique(y_predicted)))"
   ]
  },
  {
   "cell_type": "code",
   "execution_count": 51,
   "metadata": {},
   "outputs": [
    {
     "name": "stdout",
     "output_type": "stream",
     "text": [
      "SVC(C=1.0, cache_size=200, class_weight=None, coef0=0.0,\n",
      "  decision_function_shape='ovr', degree=3, gamma='auto_deprecated',\n",
      "  kernel='linear', max_iter=-1, probability=False, random_state=None,\n",
      "  shrinking=True, tol=0.001, verbose=False)\n",
      "Confusion Matrix [[53  2  0 ...  0  0  0]\n",
      " [ 4  2  0 ...  0  0  0]\n",
      " [ 2  5  0 ...  0  0  0]\n",
      " ...\n",
      " [ 0  0  0 ...  1  0  0]\n",
      " [ 0  0  0 ...  0  1  0]\n",
      " [ 0  0  0 ...  0  0  0]]\n",
      "Accuracy is  0.39\n",
      "Sensitivity is  0.39\n",
      "Precision is  0.5629425309086327\n",
      "F1 is  0.6035219439294142\n"
     ]
    }
   ],
   "source": [
    "X = test_set[['Innings Balls Faced']].head(200)\n",
    "Y = test_set['Innings Runs Scored Num'].head(200)\n",
    "Y = Y.astype('int')\n",
    "svm_classifier = SVC(kernel='linear')\n",
    "print(svm_classifier.fit(X,Y))\n",
    "y_predicted = svm_classifier.predict(X)\n",
    "matrix = confusion_matrix(Y, y_predicted)\n",
    "print(\"Confusion Matrix\",matrix)\n",
    "print (\"Accuracy is \", accuracy_score(Y, y_predicted))\n",
    "print (\"Sensitivity is \", recall_score(Y, y_predicted, average=\"weighted\"))\n",
    "print (\"Precision is \", precision_score(Y, y_predicted, average=\"weighted\",labels=np.unique(y_predicted)))\n",
    "print (\"F1 is \", f1_score(Y, y_predicted, average=\"weighted\",labels=np.unique(y_predicted)))"
   ]
  },
  {
   "cell_type": "code",
   "execution_count": 52,
   "metadata": {},
   "outputs": [
    {
     "name": "stderr",
     "output_type": "stream",
     "text": [
      "C:\\Users\\S533718\\AppData\\Local\\Continuum\\anaconda3\\lib\\site-packages\\sklearn\\svm\\base.py:196: FutureWarning: The default value of gamma will change from 'auto' to 'scale' in version 0.22 to account better for unscaled features. Set gamma explicitly to 'auto' or 'scale' to avoid this warning.\n",
      "  \"avoid this warning.\", FutureWarning)\n"
     ]
    },
    {
     "name": "stdout",
     "output_type": "stream",
     "text": [
      "SVC(C=1.0, cache_size=200, class_weight=None, coef0=0.0,\n",
      "  decision_function_shape='ovr', degree=3, gamma='auto_deprecated',\n",
      "  kernel='rbf', max_iter=-1, probability=False, random_state=None,\n",
      "  shrinking=True, tol=0.001, verbose=False)\n",
      "Confusion Matrix [[1370   41   15 ...    0    0    0]\n",
      " [  96  106   14 ...    0    0    0]\n",
      " [  33   45   46 ...    0    0    0]\n",
      " ...\n",
      " [   0    0    0 ...    1    0    0]\n",
      " [   0    0    0 ...    0    0    0]\n",
      " [   0    0    0 ...    0    0    1]]\n",
      "Accuracy is  0.5726\n",
      "Sensitivity is  0.5726\n",
      "Precision is  0.5998557901584528\n",
      "F1 is  0.5713163272613105\n"
     ]
    }
   ],
   "source": [
    "from sklearn.svm import SVC\n",
    "X = test_set[['Innings Balls Faced','Innings Minutes Batted']].head(5000)\n",
    "Y = test_set['Innings Runs Scored Num'].head(5000)\n",
    "Y = Y.astype('int')\n",
    "svm_classifier = SVC(kernel='rbf')\n",
    "print(svm_classifier.fit(X,Y))\n",
    "y_predicted = svm_classifier.predict(X)\n",
    "matrix = confusion_matrix(Y, y_predicted)\n",
    "print(\"Confusion Matrix\",matrix)\n",
    "print (\"Accuracy is \", accuracy_score(Y, y_predicted))\n",
    "print (\"Sensitivity is \", recall_score(Y, y_predicted, average=\"weighted\"))\n",
    "print (\"Precision is \", precision_score(Y, y_predicted, average=\"weighted\",labels=np.unique(y_predicted)))\n",
    "print (\"F1 is \", f1_score(Y, y_predicted, average=\"weighted\",labels=np.unique(y_predicted)))"
   ]
  },
  {
   "cell_type": "markdown",
   "metadata": {},
   "source": [
    "As there are too many data values I'm choosing just few of them and also the Support Vector Machine performs well on the smaller data values."
   ]
  },
  {
   "cell_type": "code",
   "execution_count": null,
   "metadata": {},
   "outputs": [],
   "source": []
  }
 ],
 "metadata": {
  "kernelspec": {
   "display_name": "Python 3",
   "language": "python",
   "name": "python3"
  },
  "language_info": {
   "codemirror_mode": {
    "name": "ipython",
    "version": 3
   },
   "file_extension": ".py",
   "mimetype": "text/x-python",
   "name": "python",
   "nbconvert_exporter": "python",
   "pygments_lexer": "ipython3",
   "version": "3.7.1"
  }
 },
 "nbformat": 4,
 "nbformat_minor": 2
}
